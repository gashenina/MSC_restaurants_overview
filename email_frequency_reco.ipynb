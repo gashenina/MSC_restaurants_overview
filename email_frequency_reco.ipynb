{
 "cells": [
  {
   "cell_type": "markdown",
   "metadata": {},
   "source": [
    "## <center>Проект: Персонализация частоты рассылок"
   ]
  },
  {
   "cell_type": "markdown",
   "metadata": {},
   "source": [
    "#### <article id=\"back\">\n",
    "<h2> Навигация </h2>\n",
    "\n",
    "<br><a href=\"#part0.0\">Описание проекта</a>\n",
    "<br><a href=\"#part0.1\">Задачи</a>\n",
    "<br><a href=\"#part0.2\">Описание данных</a>\n",
    "<br><a href=\"#part1\">Шаг 1. Загрузка и обзор общей информации о данных</a>\n",
    "<br><a href=\"#part2\">Шаг 2. Предобработка данных</a>\n",
    "<br><a href=\"#part3\">Шаг 3. Анализ данных</a>\n",
    "<br><a href=\"#part4\">Шаг 4. Расчет оптимального количества рассылок </a>\n",
    "<br><a href=\"#part5\">Шаг 5. Проверка гипотез</a>\n",
    "<br><a href=\"#part6\">Шаг 6. Общий вывод</a>"
   ]
  },
  {
   "cell_type": "markdown",
   "metadata": {},
   "source": [
    "<article id=\"part0.1\">\n",
    "<h2>Задачи\n",
    "</article>\n",
    "\n",
    "- Определить оптимальную частоту рассылок на уровне клиента для минимизации рисков по оттоку, в т.ч. пассивному оттоку, без снижения моментального траффика.\n",
    "- Проверить гипотезу о “пассивной отписке”: когда человеку показалось, что ему пишут слишком много, и он просто перестает открывать рассылки, хоть и не готов отписываться\n"
   ]
  },
  {
   "cell_type": "markdown",
   "metadata": {},
   "source": [
    "<article id=\"part0.2\">\n",
    "<h2>Описание данных\n",
    "</article>\n",
    "\n",
    "Таблица `campaigns`:\n",
    "- Id кампании\n",
    "- Дата и время отправки\n",
    "\n",
    "Таблица `engagements`:\n",
    "- Id клиента\n",
    "- Id кампании (если клиент попал в таргет)\n",
    "- Дата и время открытия письма\n",
    "- Клиент открыл письмо (0/1)\n",
    "- Клиент кликнул по контенту письма = перешел на сайт/app (0/1)\n",
    "- Клиент отписался от рассылки с этого письма (0/1)\n",
    "\n",
    "Таблица `membs`:\n",
    "- Id клента\n",
    "- Пол (не всегда указан) \n",
    "- Возраст (не всегда указан) \n",
    "- Дата регистрации\n"
   ]
  },
  {
   "cell_type": "markdown",
   "metadata": {},
   "source": [
    "<a href=\"#back\">В начало</a>"
   ]
  },
  {
   "cell_type": "markdown",
   "metadata": {},
   "source": [
    "<article id=\"part1\">\n",
    "<h2>Шаг 1. Загрузка и обзор общей информации о данных\n",
    "</article>"
   ]
  },
  {
   "cell_type": "code",
   "execution_count": 1,
   "metadata": {},
   "outputs": [],
   "source": [
    "import pandas as pd\n",
    "from pandas.plotting import register_matplotlib_converters\n",
    "register_matplotlib_converters()\n",
    "\n",
    "import numpy as np\n",
    "\n",
    "import math as mth\n",
    "\n",
    "from datetime import datetime, timedelta\n",
    "\n",
    "from scipy import stats as st\n",
    "\n",
    "import matplotlib\n",
    "import matplotlib.pyplot as plt\n",
    "#matplotlib.style.use('seaborn-deep')\n",
    "\n",
    "import seaborn as sns\n",
    "\n",
    "from sklearn.linear_model import LinearRegression\n",
    "from sklearn.preprocessing import StandardScaler\n",
    "\n",
    "from scipy.cluster.hierarchy import dendrogram, linkage\n",
    "from scipy.cluster.hierarchy import ward, fcluster\n",
    "\n",
    "pd.set_option('display.float_format', lambda x: '%.2f' % x)"
   ]
  },
  {
   "cell_type": "markdown",
   "metadata": {},
   "source": [
    "При считывании данных указываем какие колонки считывать: в таблицах `membs` и `campaigns` игнорируем колонку *Sent*"
   ]
  },
  {
   "cell_type": "code",
   "execution_count": 2,
   "metadata": {},
   "outputs": [],
   "source": [
    "campaigns = pd.read_excel('.../CAMPAIGNS JUL19.xlsx', header=1, skiprows=1, index_col=None, usecols=[0, 1])"
   ]
  },
  {
   "cell_type": "code",
   "execution_count": 3,
   "metadata": {},
   "outputs": [],
   "source": [
    "engagements = pd.read_excel('.../ENGAGEMENTS JUL19.xlsx', header=1, skiprows=1, index_col=None)"
   ]
  },
  {
   "cell_type": "code",
   "execution_count": 4,
   "metadata": {},
   "outputs": [],
   "source": [
    "membs = pd.read_excel('.../MEMBS JUL19.xlsx', header=1, skiprows=1, index_col=None, usecols=[0, 1, 2, 3])"
   ]
  },
  {
   "cell_type": "code",
   "execution_count": 5,
   "metadata": {},
   "outputs": [],
   "source": [
    "def show_info(df):\n",
    "    \"\"\"\n",
    "    Функция отображает первые 3 строки датафрейма, кол-во полных дубликатов и информацию о датафрейме\n",
    "    \"\"\"\n",
    "    display(df.head(3))\n",
    "    print('Кол-во полных дубликатов в данных:{}'.format(df.duplicated().sum()))\n",
    "    print()\n",
    "    display(df.info())\n",
    "    display(df.describe(include = 'all'))"
   ]
  },
  {
   "cell_type": "code",
   "execution_count": 6,
   "metadata": {},
   "outputs": [
    {
     "data": {
      "text/html": [
       "<div>\n",
       "<style scoped>\n",
       "    .dataframe tbody tr th:only-of-type {\n",
       "        vertical-align: middle;\n",
       "    }\n",
       "\n",
       "    .dataframe tbody tr th {\n",
       "        vertical-align: top;\n",
       "    }\n",
       "\n",
       "    .dataframe thead th {\n",
       "        text-align: right;\n",
       "    }\n",
       "</style>\n",
       "<table border=\"1\" class=\"dataframe\">\n",
       "  <thead>\n",
       "    <tr style=\"text-align: right;\">\n",
       "      <th></th>\n",
       "      <th>Campaign Delivery ID</th>\n",
       "      <th>Sent Date Hour ID</th>\n",
       "    </tr>\n",
       "  </thead>\n",
       "  <tbody>\n",
       "    <tr>\n",
       "      <th>0</th>\n",
       "      <td>643100000215092</td>\n",
       "      <td>2019-07-21 09:00:00</td>\n",
       "    </tr>\n",
       "    <tr>\n",
       "      <th>1</th>\n",
       "      <td>643100000248888</td>\n",
       "      <td>2019-08-06 09:00:00</td>\n",
       "    </tr>\n",
       "    <tr>\n",
       "      <th>2</th>\n",
       "      <td>643100000248888</td>\n",
       "      <td>2019-08-09 09:00:00</td>\n",
       "    </tr>\n",
       "  </tbody>\n",
       "</table>\n",
       "</div>"
      ],
      "text/plain": [
       "   Campaign Delivery ID   Sent Date Hour ID\n",
       "0       643100000215092 2019-07-21 09:00:00\n",
       "1       643100000248888 2019-08-06 09:00:00\n",
       "2       643100000248888 2019-08-09 09:00:00"
      ]
     },
     "metadata": {},
     "output_type": "display_data"
    },
    {
     "name": "stdout",
     "output_type": "stream",
     "text": [
      "Кол-во полных дубликатов в данных:0\n",
      "\n",
      "<class 'pandas.core.frame.DataFrame'>\n",
      "RangeIndex: 505 entries, 0 to 504\n",
      "Data columns (total 2 columns):\n",
      " #   Column                Non-Null Count  Dtype         \n",
      "---  ------                --------------  -----         \n",
      " 0   Campaign Delivery ID  505 non-null    int64         \n",
      " 1   Sent Date Hour ID     505 non-null    datetime64[ns]\n",
      "dtypes: datetime64[ns](1), int64(1)\n",
      "memory usage: 8.0 KB\n"
     ]
    },
    {
     "data": {
      "text/plain": [
       "None"
      ]
     },
     "metadata": {},
     "output_type": "display_data"
    },
    {
     "data": {
      "text/html": [
       "<div>\n",
       "<style scoped>\n",
       "    .dataframe tbody tr th:only-of-type {\n",
       "        vertical-align: middle;\n",
       "    }\n",
       "\n",
       "    .dataframe tbody tr th {\n",
       "        vertical-align: top;\n",
       "    }\n",
       "\n",
       "    .dataframe thead th {\n",
       "        text-align: right;\n",
       "    }\n",
       "</style>\n",
       "<table border=\"1\" class=\"dataframe\">\n",
       "  <thead>\n",
       "    <tr style=\"text-align: right;\">\n",
       "      <th></th>\n",
       "      <th>Campaign Delivery ID</th>\n",
       "      <th>Sent Date Hour ID</th>\n",
       "    </tr>\n",
       "  </thead>\n",
       "  <tbody>\n",
       "    <tr>\n",
       "      <th>count</th>\n",
       "      <td>505.00</td>\n",
       "      <td>505</td>\n",
       "    </tr>\n",
       "    <tr>\n",
       "      <th>unique</th>\n",
       "      <td>nan</td>\n",
       "      <td>398</td>\n",
       "    </tr>\n",
       "    <tr>\n",
       "      <th>top</th>\n",
       "      <td>nan</td>\n",
       "      <td>2019-08-30 14:00:00</td>\n",
       "    </tr>\n",
       "    <tr>\n",
       "      <th>freq</th>\n",
       "      <td>nan</td>\n",
       "      <td>8</td>\n",
       "    </tr>\n",
       "    <tr>\n",
       "      <th>first</th>\n",
       "      <td>nan</td>\n",
       "      <td>2019-07-21 09:00:00</td>\n",
       "    </tr>\n",
       "    <tr>\n",
       "      <th>last</th>\n",
       "      <td>nan</td>\n",
       "      <td>2020-06-30 09:00:00</td>\n",
       "    </tr>\n",
       "    <tr>\n",
       "      <th>mean</th>\n",
       "      <td>643100000984843.00</td>\n",
       "      <td>NaN</td>\n",
       "    </tr>\n",
       "    <tr>\n",
       "      <th>std</th>\n",
       "      <td>478015.25</td>\n",
       "      <td>NaN</td>\n",
       "    </tr>\n",
       "    <tr>\n",
       "      <th>min</th>\n",
       "      <td>643100000215092.00</td>\n",
       "      <td>NaN</td>\n",
       "    </tr>\n",
       "    <tr>\n",
       "      <th>25%</th>\n",
       "      <td>643100000525681.00</td>\n",
       "      <td>NaN</td>\n",
       "    </tr>\n",
       "    <tr>\n",
       "      <th>50%</th>\n",
       "      <td>643100001117111.00</td>\n",
       "      <td>NaN</td>\n",
       "    </tr>\n",
       "    <tr>\n",
       "      <th>75%</th>\n",
       "      <td>643100001391549.00</td>\n",
       "      <td>NaN</td>\n",
       "    </tr>\n",
       "    <tr>\n",
       "      <th>max</th>\n",
       "      <td>643100001658409.00</td>\n",
       "      <td>NaN</td>\n",
       "    </tr>\n",
       "  </tbody>\n",
       "</table>\n",
       "</div>"
      ],
      "text/plain": [
       "        Campaign Delivery ID    Sent Date Hour ID\n",
       "count                 505.00                  505\n",
       "unique                   nan                  398\n",
       "top                      nan  2019-08-30 14:00:00\n",
       "freq                     nan                    8\n",
       "first                    nan  2019-07-21 09:00:00\n",
       "last                     nan  2020-06-30 09:00:00\n",
       "mean      643100000984843.00                  NaN\n",
       "std                478015.25                  NaN\n",
       "min       643100000215092.00                  NaN\n",
       "25%       643100000525681.00                  NaN\n",
       "50%       643100001117111.00                  NaN\n",
       "75%       643100001391549.00                  NaN\n",
       "max       643100001658409.00                  NaN"
      ]
     },
     "metadata": {},
     "output_type": "display_data"
    }
   ],
   "source": [
    "show_info(campaigns)"
   ]
  },
  {
   "cell_type": "code",
   "execution_count": 7,
   "metadata": {},
   "outputs": [
    {
     "name": "stdout",
     "output_type": "stream",
     "text": [
      "Данные по рассылкам доступны за 345 дней\n"
     ]
    }
   ],
   "source": [
    "min_d = campaigns['Sent Date Hour ID'].min()\n",
    "max_d = campaigns['Sent Date Hour ID'].max()\n",
    "print('Данные по рассылкам доступны за {:.0f} дней'.format((max_d - min_d)/np.timedelta64(1, 'D')))"
   ]
  },
  {
   "cell_type": "markdown",
   "metadata": {},
   "source": [
    "- Всего доступно 505 записей о рассылках почти за год (с 2019-07-21 по 2020-06-30).\n",
    "- Судя по тому, что в столбце с датами 398 уникальных записей для 345 дней были дни, когда уходило несколько рассылок. Имеет смысл проверить отсылались эти письма разным группам пользователей или нет, потому такое количество писем может показаться спамом и спровоцировать отписку."
   ]
  },
  {
   "cell_type": "markdown",
   "metadata": {},
   "source": [
    "___"
   ]
  },
  {
   "cell_type": "code",
   "execution_count": 8,
   "metadata": {},
   "outputs": [
    {
     "data": {
      "text/html": [
       "<div>\n",
       "<style scoped>\n",
       "    .dataframe tbody tr th:only-of-type {\n",
       "        vertical-align: middle;\n",
       "    }\n",
       "\n",
       "    .dataframe tbody tr th {\n",
       "        vertical-align: top;\n",
       "    }\n",
       "\n",
       "    .dataframe thead th {\n",
       "        text-align: right;\n",
       "    }\n",
       "</style>\n",
       "<table border=\"1\" class=\"dataframe\">\n",
       "  <thead>\n",
       "    <tr style=\"text-align: right;\">\n",
       "      <th></th>\n",
       "      <th>Consumer SEUCI ID</th>\n",
       "      <th>Campaign Delivery ID</th>\n",
       "      <th>Opened Date Hour ID</th>\n",
       "      <th>Sent</th>\n",
       "      <th>Delivered</th>\n",
       "      <th>Opened</th>\n",
       "      <th>Clicked</th>\n",
       "      <th>Unsubscribed</th>\n",
       "    </tr>\n",
       "  </thead>\n",
       "  <tbody>\n",
       "    <tr>\n",
       "      <th>0</th>\n",
       "      <td>003GH1K9GPLAB0WG</td>\n",
       "      <td>643100000258617</td>\n",
       "      <td>NaT</td>\n",
       "      <td>1</td>\n",
       "      <td>1</td>\n",
       "      <td>nan</td>\n",
       "      <td>nan</td>\n",
       "      <td>nan</td>\n",
       "    </tr>\n",
       "    <tr>\n",
       "      <th>1</th>\n",
       "      <td>003GH1K9GPLAB0WG</td>\n",
       "      <td>643100000266591</td>\n",
       "      <td>NaT</td>\n",
       "      <td>1</td>\n",
       "      <td>1</td>\n",
       "      <td>nan</td>\n",
       "      <td>nan</td>\n",
       "      <td>nan</td>\n",
       "    </tr>\n",
       "    <tr>\n",
       "      <th>2</th>\n",
       "      <td>003GH1K9GPLAB0WG</td>\n",
       "      <td>643100000268184</td>\n",
       "      <td>NaT</td>\n",
       "      <td>1</td>\n",
       "      <td>1</td>\n",
       "      <td>nan</td>\n",
       "      <td>nan</td>\n",
       "      <td>nan</td>\n",
       "    </tr>\n",
       "  </tbody>\n",
       "</table>\n",
       "</div>"
      ],
      "text/plain": [
       "  Consumer SEUCI ID  Campaign Delivery ID Opened Date Hour ID  Sent  \\\n",
       "0  003GH1K9GPLAB0WG       643100000258617                 NaT     1   \n",
       "1  003GH1K9GPLAB0WG       643100000266591                 NaT     1   \n",
       "2  003GH1K9GPLAB0WG       643100000268184                 NaT     1   \n",
       "\n",
       "   Delivered  Opened  Clicked  Unsubscribed  \n",
       "0          1     nan      nan           nan  \n",
       "1          1     nan      nan           nan  \n",
       "2          1     nan      nan           nan  "
      ]
     },
     "metadata": {},
     "output_type": "display_data"
    },
    {
     "name": "stdout",
     "output_type": "stream",
     "text": [
      "Кол-во полных дубликатов в данных:0\n",
      "\n",
      "<class 'pandas.core.frame.DataFrame'>\n",
      "RangeIndex: 919961 entries, 0 to 919960\n",
      "Data columns (total 8 columns):\n",
      " #   Column                Non-Null Count   Dtype         \n",
      "---  ------                --------------   -----         \n",
      " 0   Consumer SEUCI ID     919961 non-null  object        \n",
      " 1   Campaign Delivery ID  919961 non-null  int64         \n",
      " 2   Opened Date Hour ID   86453 non-null   datetime64[ns]\n",
      " 3   Sent                  919961 non-null  int64         \n",
      " 4   Delivered             919961 non-null  int64         \n",
      " 5   Opened                86453 non-null   float64       \n",
      " 6   Clicked               13832 non-null   float64       \n",
      " 7   Unsubscribed          658 non-null     float64       \n",
      "dtypes: datetime64[ns](1), float64(3), int64(3), object(1)\n",
      "memory usage: 56.2+ MB\n"
     ]
    },
    {
     "data": {
      "text/plain": [
       "None"
      ]
     },
     "metadata": {},
     "output_type": "display_data"
    },
    {
     "data": {
      "text/html": [
       "<div>\n",
       "<style scoped>\n",
       "    .dataframe tbody tr th:only-of-type {\n",
       "        vertical-align: middle;\n",
       "    }\n",
       "\n",
       "    .dataframe tbody tr th {\n",
       "        vertical-align: top;\n",
       "    }\n",
       "\n",
       "    .dataframe thead th {\n",
       "        text-align: right;\n",
       "    }\n",
       "</style>\n",
       "<table border=\"1\" class=\"dataframe\">\n",
       "  <thead>\n",
       "    <tr style=\"text-align: right;\">\n",
       "      <th></th>\n",
       "      <th>Consumer SEUCI ID</th>\n",
       "      <th>Campaign Delivery ID</th>\n",
       "      <th>Opened Date Hour ID</th>\n",
       "      <th>Sent</th>\n",
       "      <th>Delivered</th>\n",
       "      <th>Opened</th>\n",
       "      <th>Clicked</th>\n",
       "      <th>Unsubscribed</th>\n",
       "    </tr>\n",
       "  </thead>\n",
       "  <tbody>\n",
       "    <tr>\n",
       "      <th>count</th>\n",
       "      <td>919961</td>\n",
       "      <td>919961.00</td>\n",
       "      <td>86453</td>\n",
       "      <td>919961.00</td>\n",
       "      <td>919961.00</td>\n",
       "      <td>86453.00</td>\n",
       "      <td>13832.00</td>\n",
       "      <td>658.00</td>\n",
       "    </tr>\n",
       "    <tr>\n",
       "      <th>unique</th>\n",
       "      <td>14059</td>\n",
       "      <td>nan</td>\n",
       "      <td>6924</td>\n",
       "      <td>nan</td>\n",
       "      <td>nan</td>\n",
       "      <td>nan</td>\n",
       "      <td>nan</td>\n",
       "      <td>nan</td>\n",
       "    </tr>\n",
       "    <tr>\n",
       "      <th>top</th>\n",
       "      <td>MHOO69877841WZ3W</td>\n",
       "      <td>nan</td>\n",
       "      <td>2019-08-15 10:00:00</td>\n",
       "      <td>nan</td>\n",
       "      <td>nan</td>\n",
       "      <td>nan</td>\n",
       "      <td>nan</td>\n",
       "      <td>nan</td>\n",
       "    </tr>\n",
       "    <tr>\n",
       "      <th>freq</th>\n",
       "      <td>178</td>\n",
       "      <td>nan</td>\n",
       "      <td>283</td>\n",
       "      <td>nan</td>\n",
       "      <td>nan</td>\n",
       "      <td>nan</td>\n",
       "      <td>nan</td>\n",
       "      <td>nan</td>\n",
       "    </tr>\n",
       "    <tr>\n",
       "      <th>first</th>\n",
       "      <td>NaN</td>\n",
       "      <td>nan</td>\n",
       "      <td>2019-07-21 09:00:00</td>\n",
       "      <td>nan</td>\n",
       "      <td>nan</td>\n",
       "      <td>nan</td>\n",
       "      <td>nan</td>\n",
       "      <td>nan</td>\n",
       "    </tr>\n",
       "    <tr>\n",
       "      <th>last</th>\n",
       "      <td>NaN</td>\n",
       "      <td>nan</td>\n",
       "      <td>2020-08-01 22:00:00</td>\n",
       "      <td>nan</td>\n",
       "      <td>nan</td>\n",
       "      <td>nan</td>\n",
       "      <td>nan</td>\n",
       "      <td>nan</td>\n",
       "    </tr>\n",
       "    <tr>\n",
       "      <th>mean</th>\n",
       "      <td>NaN</td>\n",
       "      <td>643100000939562.75</td>\n",
       "      <td>NaN</td>\n",
       "      <td>1.00</td>\n",
       "      <td>0.99</td>\n",
       "      <td>1.00</td>\n",
       "      <td>1.00</td>\n",
       "      <td>1.00</td>\n",
       "    </tr>\n",
       "    <tr>\n",
       "      <th>std</th>\n",
       "      <td>NaN</td>\n",
       "      <td>461637.14</td>\n",
       "      <td>NaN</td>\n",
       "      <td>0.00</td>\n",
       "      <td>0.07</td>\n",
       "      <td>0.00</td>\n",
       "      <td>0.00</td>\n",
       "      <td>0.00</td>\n",
       "    </tr>\n",
       "    <tr>\n",
       "      <th>min</th>\n",
       "      <td>NaN</td>\n",
       "      <td>643100000215092.00</td>\n",
       "      <td>NaN</td>\n",
       "      <td>1.00</td>\n",
       "      <td>0.00</td>\n",
       "      <td>1.00</td>\n",
       "      <td>1.00</td>\n",
       "      <td>1.00</td>\n",
       "    </tr>\n",
       "    <tr>\n",
       "      <th>25%</th>\n",
       "      <td>NaN</td>\n",
       "      <td>643100000482030.00</td>\n",
       "      <td>NaN</td>\n",
       "      <td>1.00</td>\n",
       "      <td>1.00</td>\n",
       "      <td>1.00</td>\n",
       "      <td>1.00</td>\n",
       "      <td>1.00</td>\n",
       "    </tr>\n",
       "    <tr>\n",
       "      <th>50%</th>\n",
       "      <td>NaN</td>\n",
       "      <td>643100000889086.00</td>\n",
       "      <td>NaN</td>\n",
       "      <td>1.00</td>\n",
       "      <td>1.00</td>\n",
       "      <td>1.00</td>\n",
       "      <td>1.00</td>\n",
       "      <td>1.00</td>\n",
       "    </tr>\n",
       "    <tr>\n",
       "      <th>75%</th>\n",
       "      <td>NaN</td>\n",
       "      <td>643100001370773.00</td>\n",
       "      <td>NaN</td>\n",
       "      <td>1.00</td>\n",
       "      <td>1.00</td>\n",
       "      <td>1.00</td>\n",
       "      <td>1.00</td>\n",
       "      <td>1.00</td>\n",
       "    </tr>\n",
       "    <tr>\n",
       "      <th>max</th>\n",
       "      <td>NaN</td>\n",
       "      <td>643100001663233.00</td>\n",
       "      <td>NaN</td>\n",
       "      <td>1.00</td>\n",
       "      <td>1.00</td>\n",
       "      <td>1.00</td>\n",
       "      <td>1.00</td>\n",
       "      <td>1.00</td>\n",
       "    </tr>\n",
       "  </tbody>\n",
       "</table>\n",
       "</div>"
      ],
      "text/plain": [
       "       Consumer SEUCI ID  Campaign Delivery ID  Opened Date Hour ID      Sent  \\\n",
       "count             919961             919961.00                86453 919961.00   \n",
       "unique             14059                   nan                 6924       nan   \n",
       "top     MHOO69877841WZ3W                   nan  2019-08-15 10:00:00       nan   \n",
       "freq                 178                   nan                  283       nan   \n",
       "first                NaN                   nan  2019-07-21 09:00:00       nan   \n",
       "last                 NaN                   nan  2020-08-01 22:00:00       nan   \n",
       "mean                 NaN    643100000939562.75                  NaN      1.00   \n",
       "std                  NaN             461637.14                  NaN      0.00   \n",
       "min                  NaN    643100000215092.00                  NaN      1.00   \n",
       "25%                  NaN    643100000482030.00                  NaN      1.00   \n",
       "50%                  NaN    643100000889086.00                  NaN      1.00   \n",
       "75%                  NaN    643100001370773.00                  NaN      1.00   \n",
       "max                  NaN    643100001663233.00                  NaN      1.00   \n",
       "\n",
       "        Delivered   Opened  Clicked  Unsubscribed  \n",
       "count   919961.00 86453.00 13832.00        658.00  \n",
       "unique        nan      nan      nan           nan  \n",
       "top           nan      nan      nan           nan  \n",
       "freq          nan      nan      nan           nan  \n",
       "first         nan      nan      nan           nan  \n",
       "last          nan      nan      nan           nan  \n",
       "mean         0.99     1.00     1.00          1.00  \n",
       "std          0.07     0.00     0.00          0.00  \n",
       "min          0.00     1.00     1.00          1.00  \n",
       "25%          1.00     1.00     1.00          1.00  \n",
       "50%          1.00     1.00     1.00          1.00  \n",
       "75%          1.00     1.00     1.00          1.00  \n",
       "max          1.00     1.00     1.00          1.00  "
      ]
     },
     "metadata": {},
     "output_type": "display_data"
    }
   ],
   "source": [
    "show_info(engagements)"
   ]
  },
  {
   "cell_type": "code",
   "execution_count": 9,
   "metadata": {},
   "outputs": [
    {
     "name": "stdout",
     "output_type": "stream",
     "text": [
      "Всего разослано 919961 писем, из них доставлено 915173, т.е. 99.5%\n"
     ]
    }
   ],
   "source": [
    "sent = engagements['Sent'].sum()\n",
    "delivered = engagements['Delivered'].sum()\n",
    "print('Всего разослано {} писем, из них доставлено {}, т.е. {:.1%}'.format(sent, delivered, delivered/sent))"
   ]
  },
  {
   "cell_type": "code",
   "execution_count": 10,
   "metadata": {},
   "outputs": [
    {
     "name": "stdout",
     "output_type": "stream",
     "text": [
      "Данные по взаимодействиям с рассылками доступны за 378 дней\n"
     ]
    }
   ],
   "source": [
    "min_d = engagements['Opened Date Hour ID'].min()\n",
    "max_d = engagements['Opened Date Hour ID'].max()\n",
    "print('Данные по взаимодействиям с рассылками доступны за {:.0f} дней'.format((max_d - min_d)/np.timedelta64(1, 'D')))"
   ]
  },
  {
   "cell_type": "markdown",
   "metadata": {},
   "source": [
    "- Данные по взаимодействиям с рассылками (открытиям письма) доступны чуть больше чем за год (с 2019-07-21 по 2020-08-01).\n",
    "- Всего разослано 919961 писем, из них доставлено 915173, т.е. 99.5%. Имеет смысл оставить только удачно доставленные письма.\n"
   ]
  },
  {
   "cell_type": "markdown",
   "metadata": {},
   "source": [
    "___"
   ]
  },
  {
   "cell_type": "code",
   "execution_count": 11,
   "metadata": {},
   "outputs": [
    {
     "data": {
      "text/html": [
       "<div>\n",
       "<style scoped>\n",
       "    .dataframe tbody tr th:only-of-type {\n",
       "        vertical-align: middle;\n",
       "    }\n",
       "\n",
       "    .dataframe tbody tr th {\n",
       "        vertical-align: top;\n",
       "    }\n",
       "\n",
       "    .dataframe thead th {\n",
       "        text-align: right;\n",
       "    }\n",
       "</style>\n",
       "<table border=\"1\" class=\"dataframe\">\n",
       "  <thead>\n",
       "    <tr style=\"text-align: right;\">\n",
       "      <th></th>\n",
       "      <th>Consumer SEUCI ID</th>\n",
       "      <th>Age ID</th>\n",
       "      <th>Gender DESC</th>\n",
       "      <th>First Signup Date ID</th>\n",
       "    </tr>\n",
       "  </thead>\n",
       "  <tbody>\n",
       "    <tr>\n",
       "      <th>0</th>\n",
       "      <td>003GH1K9GPLAB0WG</td>\n",
       "      <td>nan</td>\n",
       "      <td>Not Set</td>\n",
       "      <td>2019-07-01</td>\n",
       "    </tr>\n",
       "    <tr>\n",
       "      <th>1</th>\n",
       "      <td>0049U5ZF5M0KFYTZ</td>\n",
       "      <td>39.00</td>\n",
       "      <td>Male</td>\n",
       "      <td>2019-07-02</td>\n",
       "    </tr>\n",
       "    <tr>\n",
       "      <th>2</th>\n",
       "      <td>006ZYWZO9M7FS9BT</td>\n",
       "      <td>33.00</td>\n",
       "      <td>Male</td>\n",
       "      <td>2019-07-01</td>\n",
       "    </tr>\n",
       "  </tbody>\n",
       "</table>\n",
       "</div>"
      ],
      "text/plain": [
       "  Consumer SEUCI ID  Age ID Gender DESC First Signup Date ID\n",
       "0  003GH1K9GPLAB0WG     nan     Not Set           2019-07-01\n",
       "1  0049U5ZF5M0KFYTZ   39.00        Male           2019-07-02\n",
       "2  006ZYWZO9M7FS9BT   33.00        Male           2019-07-01"
      ]
     },
     "metadata": {},
     "output_type": "display_data"
    },
    {
     "name": "stdout",
     "output_type": "stream",
     "text": [
      "Кол-во полных дубликатов в данных:0\n",
      "\n",
      "<class 'pandas.core.frame.DataFrame'>\n",
      "RangeIndex: 14065 entries, 0 to 14064\n",
      "Data columns (total 4 columns):\n",
      " #   Column                Non-Null Count  Dtype         \n",
      "---  ------                --------------  -----         \n",
      " 0   Consumer SEUCI ID     14065 non-null  object        \n",
      " 1   Age ID                10981 non-null  float64       \n",
      " 2   Gender DESC           14065 non-null  object        \n",
      " 3   First Signup Date ID  14065 non-null  datetime64[ns]\n",
      "dtypes: datetime64[ns](1), float64(1), object(2)\n",
      "memory usage: 439.7+ KB\n"
     ]
    },
    {
     "data": {
      "text/plain": [
       "None"
      ]
     },
     "metadata": {},
     "output_type": "display_data"
    },
    {
     "data": {
      "text/html": [
       "<div>\n",
       "<style scoped>\n",
       "    .dataframe tbody tr th:only-of-type {\n",
       "        vertical-align: middle;\n",
       "    }\n",
       "\n",
       "    .dataframe tbody tr th {\n",
       "        vertical-align: top;\n",
       "    }\n",
       "\n",
       "    .dataframe thead th {\n",
       "        text-align: right;\n",
       "    }\n",
       "</style>\n",
       "<table border=\"1\" class=\"dataframe\">\n",
       "  <thead>\n",
       "    <tr style=\"text-align: right;\">\n",
       "      <th></th>\n",
       "      <th>Consumer SEUCI ID</th>\n",
       "      <th>Age ID</th>\n",
       "      <th>Gender DESC</th>\n",
       "      <th>First Signup Date ID</th>\n",
       "    </tr>\n",
       "  </thead>\n",
       "  <tbody>\n",
       "    <tr>\n",
       "      <th>count</th>\n",
       "      <td>14065</td>\n",
       "      <td>10981.00</td>\n",
       "      <td>14065</td>\n",
       "      <td>14065</td>\n",
       "    </tr>\n",
       "    <tr>\n",
       "      <th>unique</th>\n",
       "      <td>14065</td>\n",
       "      <td>nan</td>\n",
       "      <td>4</td>\n",
       "      <td>2</td>\n",
       "    </tr>\n",
       "    <tr>\n",
       "      <th>top</th>\n",
       "      <td>SXLNZ9DOKJ576F37</td>\n",
       "      <td>nan</td>\n",
       "      <td>Male</td>\n",
       "      <td>2019-07-02 00:00:00</td>\n",
       "    </tr>\n",
       "    <tr>\n",
       "      <th>freq</th>\n",
       "      <td>1</td>\n",
       "      <td>nan</td>\n",
       "      <td>6527</td>\n",
       "      <td>7074</td>\n",
       "    </tr>\n",
       "    <tr>\n",
       "      <th>first</th>\n",
       "      <td>NaN</td>\n",
       "      <td>nan</td>\n",
       "      <td>NaN</td>\n",
       "      <td>2019-07-01 00:00:00</td>\n",
       "    </tr>\n",
       "    <tr>\n",
       "      <th>last</th>\n",
       "      <td>NaN</td>\n",
       "      <td>nan</td>\n",
       "      <td>NaN</td>\n",
       "      <td>2019-07-02 00:00:00</td>\n",
       "    </tr>\n",
       "    <tr>\n",
       "      <th>mean</th>\n",
       "      <td>NaN</td>\n",
       "      <td>30.41</td>\n",
       "      <td>NaN</td>\n",
       "      <td>NaN</td>\n",
       "    </tr>\n",
       "    <tr>\n",
       "      <th>std</th>\n",
       "      <td>NaN</td>\n",
       "      <td>11.63</td>\n",
       "      <td>NaN</td>\n",
       "      <td>NaN</td>\n",
       "    </tr>\n",
       "    <tr>\n",
       "      <th>min</th>\n",
       "      <td>NaN</td>\n",
       "      <td>14.00</td>\n",
       "      <td>NaN</td>\n",
       "      <td>NaN</td>\n",
       "    </tr>\n",
       "    <tr>\n",
       "      <th>25%</th>\n",
       "      <td>NaN</td>\n",
       "      <td>21.00</td>\n",
       "      <td>NaN</td>\n",
       "      <td>NaN</td>\n",
       "    </tr>\n",
       "    <tr>\n",
       "      <th>50%</th>\n",
       "      <td>NaN</td>\n",
       "      <td>29.00</td>\n",
       "      <td>NaN</td>\n",
       "      <td>NaN</td>\n",
       "    </tr>\n",
       "    <tr>\n",
       "      <th>75%</th>\n",
       "      <td>NaN</td>\n",
       "      <td>38.00</td>\n",
       "      <td>NaN</td>\n",
       "      <td>NaN</td>\n",
       "    </tr>\n",
       "    <tr>\n",
       "      <th>max</th>\n",
       "      <td>NaN</td>\n",
       "      <td>141.00</td>\n",
       "      <td>NaN</td>\n",
       "      <td>NaN</td>\n",
       "    </tr>\n",
       "  </tbody>\n",
       "</table>\n",
       "</div>"
      ],
      "text/plain": [
       "       Consumer SEUCI ID   Age ID Gender DESC First Signup Date ID\n",
       "count              14065 10981.00       14065                14065\n",
       "unique             14065      nan           4                    2\n",
       "top     SXLNZ9DOKJ576F37      nan        Male  2019-07-02 00:00:00\n",
       "freq                   1      nan        6527                 7074\n",
       "first                NaN      nan         NaN  2019-07-01 00:00:00\n",
       "last                 NaN      nan         NaN  2019-07-02 00:00:00\n",
       "mean                 NaN    30.41         NaN                  NaN\n",
       "std                  NaN    11.63         NaN                  NaN\n",
       "min                  NaN    14.00         NaN                  NaN\n",
       "25%                  NaN    21.00         NaN                  NaN\n",
       "50%                  NaN    29.00         NaN                  NaN\n",
       "75%                  NaN    38.00         NaN                  NaN\n",
       "max                  NaN   141.00         NaN                  NaN"
      ]
     },
     "metadata": {},
     "output_type": "display_data"
    }
   ],
   "source": [
    "show_info(membs)"
   ]
  },
  {
   "cell_type": "markdown",
   "metadata": {},
   "source": [
    "- Доступны данные о возрасте и поле пользователей из когорты пользователей, зарегистрировавшейся 2019-07-02\n",
    "- Максимальный возраст пользователя — 141год🔥\n",
    "- А разных полов — 4. Проверить корректность"
   ]
  },
  {
   "cell_type": "markdown",
   "metadata": {},
   "source": [
    "___"
   ]
  },
  {
   "cell_type": "markdown",
   "metadata": {},
   "source": [
    "Проверяем пересечение id пользователей в таблицах:"
   ]
  },
  {
   "cell_type": "code",
   "execution_count": 12,
   "metadata": {},
   "outputs": [],
   "source": [
    "unique_id_engagements = engagements['Consumer SEUCI ID'].unique()\n",
    "unique_id_membs = membs['Consumer SEUCI ID'].unique()"
   ]
  },
  {
   "cell_type": "code",
   "execution_count": 13,
   "metadata": {},
   "outputs": [
    {
     "name": "stdout",
     "output_type": "stream",
     "text": [
      "Количество уникальных id в таблице engagements: 14059\n",
      "Количество уникальных id в таблице membs: 14065\n",
      "\n",
      "Пересечение id в таблицах engagements + membs: 14059\n"
     ]
    }
   ],
   "source": [
    "print('Количество уникальных id в таблице engagements:', len(unique_id_engagements))\n",
    "print('Количество уникальных id в таблице membs:', len(unique_id_membs))\n",
    "print()\n",
    "print('Пересечение id в таблицах engagements + membs:', len(pd.Series(list(set(unique_id_engagements) & set(unique_id_membs)))))\n"
   ]
  },
  {
   "cell_type": "markdown",
   "metadata": {},
   "source": [
    "___"
   ]
  },
  {
   "cell_type": "markdown",
   "metadata": {},
   "source": [
    "**Общий вывод по данным**\n",
    "\n",
    "- Нам доступны данные когорты пользователей, зарегистрировавшихся 2019-07-02:\n",
    "    - всего около 14т пользователей\n",
    "    - записи о взаимодействиях с рассылками (факт получения, открытия, перехода на сайт/приложение) чуть больше чем за год с 2019-07-21 по 2020-08-01\n",
    "    - пол/возраст\n",
    "- На этапе предобработки необходимо:\n",
    "    - Удалить пользователей, которые не открывали рассылки более 180 дней\n",
    "    - В `engagements` оставить инфо только по доставленным письмам (*Delivered* = 1).\n",
    "    - Проверить выбросы и корректность данных в `membs`"
   ]
  },
  {
   "cell_type": "markdown",
   "metadata": {},
   "source": [
    "<a href=\"#back\">В начало</a>"
   ]
  },
  {
   "cell_type": "markdown",
   "metadata": {},
   "source": [
    "<article id=\"part2\">\n",
    "<h2>Шаг 2. Предобработка данных\n",
    "</article>"
   ]
  },
  {
   "cell_type": "markdown",
   "metadata": {},
   "source": [
    "**Корректировка названий столбцов**"
   ]
  },
  {
   "cell_type": "code",
   "execution_count": 14,
   "metadata": {},
   "outputs": [],
   "source": [
    "def rename_columns(df):\n",
    "    \"\"\"\n",
    "    Заменяет пробелы в названиях столбцов на '_' и приводит их к нижнему регистру\n",
    "    \"\"\"\n",
    "    names = df.columns\n",
    "    new_names = []\n",
    "    for column in names:\n",
    "        column = (column\n",
    "                  .lower()\n",
    "                  .replace(' ', '_')\n",
    "                  .replace('seuci_', '')\n",
    "                  .replace('_desc', '')\n",
    "                  .replace('delivery_id', 'id')\n",
    "                  .replace('date_id', 'date')\n",
    "                  .replace('date_hour_id', 'date')\n",
    "                 )\n",
    "        new_names.append(column)\n",
    "    df.columns = new_names"
   ]
  },
  {
   "cell_type": "code",
   "execution_count": 15,
   "metadata": {},
   "outputs": [],
   "source": [
    "rename_columns(campaigns)\n",
    "rename_columns(engagements)\n",
    "rename_columns(membs)"
   ]
  },
  {
   "cell_type": "markdown",
   "metadata": {},
   "source": [
    "**Фильтрация выбросов в таблице `membs`**"
   ]
  },
  {
   "cell_type": "code",
   "execution_count": 16,
   "metadata": {},
   "outputs": [
    {
     "data": {
      "image/png": "[encoded data removed]",
      "text/plain": [
       "<Figure size 720x288 with 1 Axes>"
      ]
     },
     "metadata": {},
     "output_type": "display_data"
    }
   ],
   "source": [
    "fig, ax = plt.subplots(figsize = (10, 4))\n",
    "\n",
    "sns.boxplot(membs['age_id'])\n",
    "\n",
    "plt.title('Распределение возраста пользователей', fontdict={'size':14})\n",
    "plt.xlabel('возраст');"
   ]
  },
  {
   "cell_type": "markdown",
   "metadata": {},
   "source": [
    "Судя по распределению возраста пользователей, после 80 лет есть только отдельные, изолированные наблюдения — будем считать эти записи выбросами/ошибками и удалим их. Также отфильтруем пользователей моложе 18 лет — с большой вероятностью это ошибка."
   ]
  },
  {
   "cell_type": "code",
   "execution_count": 17,
   "metadata": {},
   "outputs": [],
   "source": [
    "membs = membs[(membs['age_id'] <= 80) & (membs['age_id'] >= 18)].copy()"
   ]
  },
  {
   "cell_type": "markdown",
   "metadata": {},
   "source": [
    "В записях о поле есть варианты *Prefer Not to Say* и *Not Set* — заменяем на NaN"
   ]
  },
  {
   "cell_type": "code",
   "execution_count": 18,
   "metadata": {},
   "outputs": [],
   "source": [
    "gender_di = {'Male':'male', 'Female':'female', 'Prefer Not to Say':np.nan, 'Not Set':np.nan}\n",
    "membs['gender'] = membs['gender'].replace(gender_di)"
   ]
  },
  {
   "cell_type": "markdown",
   "metadata": {},
   "source": [
    "**Предобработка данных в таблице `engagements`**"
   ]
  },
  {
   "cell_type": "markdown",
   "metadata": {},
   "source": [
    "Добавляем столбец с месяцем открытия письма"
   ]
  },
  {
   "cell_type": "code",
   "execution_count": 19,
   "metadata": {},
   "outputs": [],
   "source": [
    "engagements['opened_month'] = engagements['opened_date'].values.astype('datetime64[M]')"
   ]
  },
  {
   "cell_type": "markdown",
   "metadata": {},
   "source": [
    "Проверяем, что одному пользователю каждая рассылка приходила только один раз."
   ]
  },
  {
   "cell_type": "code",
   "execution_count": 20,
   "metadata": {},
   "outputs": [],
   "source": [
    "campaigns = campaigns.sort_values(by=['campaign_id', 'sent_date'])"
   ]
  },
  {
   "cell_type": "code",
   "execution_count": 21,
   "metadata": {},
   "outputs": [
    {
     "data": {
      "text/html": [
       "<div>\n",
       "<style scoped>\n",
       "    .dataframe tbody tr th:only-of-type {\n",
       "        vertical-align: middle;\n",
       "    }\n",
       "\n",
       "    .dataframe tbody tr th {\n",
       "        vertical-align: top;\n",
       "    }\n",
       "\n",
       "    .dataframe thead th {\n",
       "        text-align: right;\n",
       "    }\n",
       "</style>\n",
       "<table border=\"1\" class=\"dataframe\">\n",
       "  <thead>\n",
       "    <tr style=\"text-align: right;\">\n",
       "      <th></th>\n",
       "      <th>consumer_id</th>\n",
       "      <th>cnt_total</th>\n",
       "      <th>cnt_unique</th>\n",
       "      <th>diff</th>\n",
       "    </tr>\n",
       "  </thead>\n",
       "  <tbody>\n",
       "    <tr>\n",
       "      <th>0</th>\n",
       "      <td>003GH1K9GPLAB0WG</td>\n",
       "      <td>51</td>\n",
       "      <td>51</td>\n",
       "      <td>0</td>\n",
       "    </tr>\n",
       "    <tr>\n",
       "      <th>9376</th>\n",
       "      <td>NXDKWDLL3IGMH64L</td>\n",
       "      <td>127</td>\n",
       "      <td>127</td>\n",
       "      <td>0</td>\n",
       "    </tr>\n",
       "    <tr>\n",
       "      <th>9365</th>\n",
       "      <td>NWMHRN3O9PE8R4M4</td>\n",
       "      <td>50</td>\n",
       "      <td>50</td>\n",
       "      <td>0</td>\n",
       "    </tr>\n",
       "  </tbody>\n",
       "</table>\n",
       "</div>"
      ],
      "text/plain": [
       "           consumer_id  cnt_total  cnt_unique  diff\n",
       "0     003GH1K9GPLAB0WG         51          51     0\n",
       "9376  NXDKWDLL3IGMH64L        127         127     0\n",
       "9365  NWMHRN3O9PE8R4M4         50          50     0"
      ]
     },
     "execution_count": 21,
     "metadata": {},
     "output_type": "execute_result"
    }
   ],
   "source": [
    "unique_campaigns = (engagements\n",
    "                    .groupby(['consumer_id'])\n",
    "                    .agg(cnt_total=('campaign_id', 'count'),\n",
    "                      cnt_unique=('campaign_id', 'nunique'))\n",
    "                    .reset_index()\n",
    "                 )\n",
    "unique_campaigns['diff'] = unique_campaigns['cnt_total'] - unique_campaigns['cnt_unique']\n",
    "unique_campaigns.sort_values('diff', ascending=False).head(3)"
   ]
  },
  {
   "cell_type": "markdown",
   "metadata": {},
   "source": [
    "Проверяем, что кампании не длятся дольше месяца."
   ]
  },
  {
   "cell_type": "code",
   "execution_count": 22,
   "metadata": {},
   "outputs": [
    {
     "data": {
      "text/html": [
       "<div>\n",
       "<style scoped>\n",
       "    .dataframe tbody tr th:only-of-type {\n",
       "        vertical-align: middle;\n",
       "    }\n",
       "\n",
       "    .dataframe tbody tr th {\n",
       "        vertical-align: top;\n",
       "    }\n",
       "\n",
       "    .dataframe thead th {\n",
       "        text-align: right;\n",
       "    }\n",
       "</style>\n",
       "<table border=\"1\" class=\"dataframe\">\n",
       "  <thead>\n",
       "    <tr style=\"text-align: right;\">\n",
       "      <th></th>\n",
       "      <th>campaign_id</th>\n",
       "      <th>campaign_date_min</th>\n",
       "      <th>campaign_date_max</th>\n",
       "      <th>days</th>\n",
       "    </tr>\n",
       "  </thead>\n",
       "  <tbody>\n",
       "    <tr>\n",
       "      <th>1</th>\n",
       "      <td>643100000248888</td>\n",
       "      <td>2019-08-06 09:00:00</td>\n",
       "      <td>2019-08-30 15:00:00</td>\n",
       "      <td>24.25</td>\n",
       "    </tr>\n",
       "    <tr>\n",
       "      <th>6</th>\n",
       "      <td>643100000262085</td>\n",
       "      <td>2019-08-14 09:00:00</td>\n",
       "      <td>2019-08-30 14:00:00</td>\n",
       "      <td>16.21</td>\n",
       "    </tr>\n",
       "    <tr>\n",
       "      <th>4</th>\n",
       "      <td>643100000258617</td>\n",
       "      <td>2019-08-15 09:00:00</td>\n",
       "      <td>2019-08-30 15:00:00</td>\n",
       "      <td>15.25</td>\n",
       "    </tr>\n",
       "  </tbody>\n",
       "</table>\n",
       "</div>"
      ],
      "text/plain": [
       "       campaign_id   campaign_date_min   campaign_date_max  days\n",
       "1  643100000248888 2019-08-06 09:00:00 2019-08-30 15:00:00 24.25\n",
       "6  643100000262085 2019-08-14 09:00:00 2019-08-30 14:00:00 16.21\n",
       "4  643100000258617 2019-08-15 09:00:00 2019-08-30 15:00:00 15.25"
      ]
     },
     "execution_count": 22,
     "metadata": {},
     "output_type": "execute_result"
    }
   ],
   "source": [
    "camp_date = (campaigns\n",
    "             .groupby('campaign_id')\n",
    "             .agg(campaign_date_min=('sent_date', 'min'), \n",
    "                  campaign_date_max=('sent_date', 'max'))\n",
    "             .reset_index()\n",
    "            )\n",
    "camp_date['days'] = (camp_date['campaign_date_max'] - camp_date['campaign_date_min']) / np.timedelta64(1, 'D')\n",
    "camp_date.sort_values(by=['days'], ascending=False).head(3)"
   ]
  },
  {
   "cell_type": "markdown",
   "metadata": {},
   "source": [
    "Для удобства далее будем считать, что одна рассылка приходит пользователю только один раз. Сопоставляем самую раннюю дату рассылки с записями о действиях пользователей, чтобы посчитать кол-во контактов в месяц."
   ]
  },
  {
   "cell_type": "code",
   "execution_count": 23,
   "metadata": {},
   "outputs": [],
   "source": [
    "engagements = engagements.merge(camp_date[['campaign_id', 'campaign_date_min']], on='campaign_id', how='left')\n",
    "engagements = engagements.dropna(subset=['campaign_date_min']).reset_index(drop=True)\n",
    "engagements['campaign_month'] = engagements['campaign_date_min'].values.astype('datetime64[M]')"
   ]
  },
  {
   "cell_type": "markdown",
   "metadata": {},
   "source": [
    "Проверяем выбросы в кол-ве рассылок в месяц"
   ]
  },
  {
   "cell_type": "code",
   "execution_count": 24,
   "metadata": {},
   "outputs": [],
   "source": [
    "sent_per_month = (engagements\n",
    "                  .groupby(['consumer_id', 'campaign_month'])\n",
    "                  .agg(cnt=('campaign_id', 'count'))\n",
    "                  .reset_index()\n",
    "                 ).merge(membs, on='consumer_id', how='left')"
   ]
  },
  {
   "cell_type": "code",
   "execution_count": 25,
   "metadata": {},
   "outputs": [
    {
     "data": {
      "image/png": "[encoded data removed]",
      "text/plain": [
       "<Figure size 720x288 with 1 Axes>"
      ]
     },
     "metadata": {},
     "output_type": "display_data"
    }
   ],
   "source": [
    "fig, ax = plt.subplots(figsize = (10, 4))\n",
    "\n",
    "sns.lineplot(x = 'campaign_month',\n",
    "            y = 'cnt',\n",
    "            data = sent_per_month,\n",
    "            palette = 'Blues'\n",
    "           )\n",
    "\n",
    "plt.grid('major')\n",
    "plt.title('Тренд кол-ва рассылок в месяц с 07/19 по 06/19', fontdict={'size':14})\n",
    "plt.xlabel('месяц')\n",
    "plt.ylabel('кол-во рассылок на пользователя');"
   ]
  },
  {
   "cell_type": "code",
   "execution_count": 26,
   "metadata": {},
   "outputs": [
    {
     "data": {
      "image/png": "[encoded data removed]",
      "text/plain": [
       "<Figure size 720x288 with 1 Axes>"
      ]
     },
     "metadata": {},
     "output_type": "display_data"
    }
   ],
   "source": [
    "fig, ax = plt.subplots(figsize = (10, 4))\n",
    "\n",
    "sns.boxplot(y = 'cnt',\n",
    "            data = sent_per_month,\n",
    "            orient = 'h',\n",
    "            palette = 'Blues'\n",
    "           )\n",
    "\n",
    "plt.grid('major')\n",
    "plt.title('Распределение кол-ва рассылок в месяц', fontdict={'size':14})\n",
    "plt.xlabel('кол-во рассылок');"
   ]
  },
  {
   "cell_type": "code",
   "execution_count": 27,
   "metadata": {},
   "outputs": [
    {
     "name": "stdout",
     "output_type": "stream",
     "text": [
      "95 и 99 персентили количества рассылок в месяц на одного пользователя: 19, 22\n",
      "3620 пользователей, получивших более 19 писем и 720 пользователей более 22 писем\n"
     ]
    }
   ],
   "source": [
    "per_95, per_99 = np.percentile(sent_per_month['cnt'], [95, 99])\n",
    "users_above_per_95 = sent_per_month[sent_per_month['cnt'] > per_95]['consumer_id'].count()\n",
    "users_above_per_99 = sent_per_month[sent_per_month['cnt'] > per_99]['consumer_id'].count()\n",
    "\n",
    "print('95 и 99 персентили количества рассылок в месяц на одного пользователя: {:.0f}, {:.0f}'.format(per_95, per_99))\n",
    "print('{:.0f} пользователей, получивших более {:.0f} писем и {:.0f} пользователей более {:.0f} писем'.format(users_above_per_95, per_95, users_above_per_99, per_99))"
   ]
  },
  {
   "cell_type": "markdown",
   "metadata": {},
   "source": [
    "Большинство пользователей получают менее 22 писем, но есть и такие, кто получают 27 писем в месяц. Тем не менее кажется, что в данных нет очевидных выбросов по количеству писем в месяц."
   ]
  },
  {
   "cell_type": "markdown",
   "metadata": {},
   "source": [
    "Выделяем пользователей, которые не открывали рассылки более 180 дней. Сортируем таблицу `engagements` по пользоваетлям и дате открытия и находим последнюю дату открытия рассылки. Если последняя дата меньше максимальной даты минус 180 дней, удаляем эти записи."
   ]
  },
  {
   "cell_type": "code",
   "execution_count": 28,
   "metadata": {},
   "outputs": [],
   "source": [
    "engagements = engagements.sort_values(by=['consumer_id', 'opened_date'])\n",
    "\n",
    "last_opened_date = (engagements\n",
    "                    .groupby(['consumer_id'])\n",
    "                    .agg(opened_date=('opened_date', 'last'),\n",
    "                        sent_date=('campaign_month', 'nunique'))\n",
    "                    .reset_index()\n",
    "                   )\n",
    "\n",
    "ids_to_clear_date = (last_opened_date[last_opened_date['opened_date'] <\n",
    "                                      (last_opened_date['opened_date'].max() -\n",
    "                                       pd.Timedelta(days=180))]['consumer_id'])"
   ]
  },
  {
   "cell_type": "markdown",
   "metadata": {},
   "source": [
    "Выделяем пользователей, которые никогда не открывали рассылки — они не попадают под условие \"последняя дата открытия больше 180 дней\", потому что там нет даты."
   ]
  },
  {
   "cell_type": "code",
   "execution_count": 29,
   "metadata": {},
   "outputs": [],
   "source": [
    "engagements_old = engagements[engagements['campaign_month'] < (engagements['campaign_month'].max() - pd.Timedelta(days=180))].copy()\n",
    "engagements_old['date_na'] = engagements_old['opened_date'].notna()"
   ]
  },
  {
   "cell_type": "code",
   "execution_count": 30,
   "metadata": {},
   "outputs": [],
   "source": [
    "opened_date_na = engagements_old.groupby('consumer_id').agg(date_na=('date_na', 'sum')).reset_index()\n",
    "ids_to_clear_na = opened_date_na[opened_date_na['date_na'] == 0]['consumer_id'].unique()"
   ]
  },
  {
   "cell_type": "markdown",
   "metadata": {},
   "source": [
    "Проверяем распределение кол-ва дней до открытия рассылки."
   ]
  },
  {
   "cell_type": "code",
   "execution_count": 31,
   "metadata": {},
   "outputs": [],
   "source": [
    "engagements['days_till_open'] = ((engagements['opened_date'] - engagements['campaign_date_min']) / np.timedelta64(1, 'D')).round()"
   ]
  },
  {
   "cell_type": "code",
   "execution_count": 32,
   "metadata": {},
   "outputs": [
    {
     "data": {
      "image/png": "[encoded data removed]",
      "text/plain": [
       "<Figure size 720x288 with 1 Axes>"
      ]
     },
     "metadata": {},
     "output_type": "display_data"
    }
   ],
   "source": [
    "fig, ax = plt.subplots(figsize = (10, 4))\n",
    "\n",
    "sns.boxplot(engagements['days_till_open'])\n",
    "\n",
    "plt.title('Распределение кол-ва дней до открытия рассылки', fontdict={'size':14})\n",
    "plt.xlabel('кол-во дней')\n",
    "plt.grid('major');"
   ]
  },
  {
   "cell_type": "markdown",
   "metadata": {},
   "source": [
    "Распределение не нормальное, в данных есть пользователи, которые приближаются к границе \"не открывал рассылки 180 дней\". Но не думаю, что эти записи стоит удалять — иначе мы искусственно завысим % открытий рассылок "
   ]
  },
  {
   "cell_type": "markdown",
   "metadata": {},
   "source": [
    "Фильтрую пользователей, которые а)никогда не открывали рассылки, б)не открывали рассылки более 180 дней и рассылки, которые не были доставлены."
   ]
  },
  {
   "cell_type": "code",
   "execution_count": 33,
   "metadata": {},
   "outputs": [],
   "source": [
    "delivered_only = (engagements['delivered'] == 1)\n",
    "opened_date_na = (~engagements['consumer_id'].isin(ids_to_clear_na))\n",
    "opened_date_old = (~engagements['consumer_id'].isin(ids_to_clear_date))\n",
    "\n",
    "engagements = engagements[delivered_only & opened_date_na & opened_date_old]"
   ]
  },
  {
   "cell_type": "markdown",
   "metadata": {},
   "source": [
    "**Общий вывод по пердобработке**\n",
    "\n",
    "- В таблице `membs` оставили записи о пользователях возрастом старше 18ти лет и моложе 80ти. А в столбце *gender* варианты Prefer Not to Say и Not Set — заменили на NaN.\n",
    "-  В таблице `engagements` сопоставили каждому id кампании самую раннюю дату ее рассылки — далее делаем допущение, что пользователь получил рассылку именно в эту дату.\n",
    "- Проверили наличие выбросов в количестве рассылок на пользователя — большинство получают меньше 22 писем в месяц, но есть и те кто получают 27. Не считаем это аномальной активностью.\n",
    "- Удалили из таблицы `engagements` записи о пользователях, которые не открывали рассылки более 180 дней и рассылках, которые не были доставлены."
   ]
  },
  {
   "cell_type": "markdown",
   "metadata": {},
   "source": [
    "<a href=\"#back\">В начало</a>"
   ]
  },
  {
   "cell_type": "markdown",
   "metadata": {},
   "source": [
    "<article id=\"part3\">\n",
    "<h2>Шаг 3. Анализ данных\n",
    "    \n",
    "</article>"
   ]
  },
  {
   "cell_type": "markdown",
   "metadata": {},
   "source": [
    "**Как соотносятся open rate и количество рассылок?**"
   ]
  },
  {
   "cell_type": "code",
   "execution_count": 34,
   "metadata": {},
   "outputs": [],
   "source": [
    "#группируем события по id пользователя и месяцу кампании и считаем open rate\n",
    "campaign_count = (engagements\n",
    "                  .groupby(['consumer_id', 'campaign_month'])\n",
    "                  .agg(sum_opened=('opened', 'sum'),\n",
    "                       sum_sent=('sent', 'sum'))\n",
    "                  .reset_index()\n",
    "                 )\n",
    "campaign_count['open_rate'] = campaign_count['sum_opened'] / campaign_count['sum_sent']"
   ]
  },
  {
   "cell_type": "code",
   "execution_count": 35,
   "metadata": {},
   "outputs": [],
   "source": [
    "#считаем средний open rate\n",
    "mean_open_rate = (campaign_count\n",
    "                  .groupby(['sum_sent'])\n",
    "                  .agg(sum_sent=('sum_sent', 'sum'),\n",
    "                       sum_opened=('sum_opened', 'sum')\n",
    "                  #.reset_index()\n",
    "                 ))\n",
    "mean_open_rate['open_rate'] = mean_open_rate['sum_opened'] / mean_open_rate['sum_sent']"
   ]
  },
  {
   "cell_type": "code",
   "execution_count": 36,
   "metadata": {},
   "outputs": [
    {
     "data": {
      "image/png": "[encoded data removed]",
      "text/plain": [
       "<Figure size 720x288 with 1 Axes>"
      ]
     },
     "metadata": {},
     "output_type": "display_data"
    }
   ],
   "source": [
    "x = mean_open_rate.index\n",
    "y = mean_open_rate['open_rate']\n",
    "\n",
    "fig, ax = plt.subplots(figsize = (10, 4))\n",
    "\n",
    "ax.plot(x, y, color = 'dimgrey', label = 'open rate')\n",
    "\n",
    "ax.axhline(y=mean_open_rate['open_rate'].median(), color = 'dimgrey', linestyle='--', alpha = 0.8, label = 'средний open rate')\n",
    "ax.axvline(x=sent_per_month['cnt'].median(), color = 'steelblue', linestyle='--', alpha = 0.8, label = 'медиана количества рассылок')\n",
    "\n",
    "\n",
    "ax.set_xlabel('количество рассылок в месяц у одного пользователя')\n",
    "ax.set_ylabel('open rate (opened/delivered)', color = 'dimgrey')\n",
    "ax.set_title('Кол-во рассылок в месяц и open rate', fontdict={'size':14})\n",
    "ax.legend(fancybox=True, framealpha=0.5, loc='upper right')\n",
    "\n",
    "plt.grid('major');"
   ]
  },
  {
   "cell_type": "markdown",
   "metadata": {},
   "source": [
    "Интересно распределется % открытий писем: письма чаще открывают либо если их мало (<5), либо если много (>25).\n",
    "\n",
    "Судя по доле пользователей, открывших рассылки, есть достаточное кол-во людей, которые получают 20 и более писем в месяц и не испытывают дискомфорта: open rate очень высокий (>=40%)."
   ]
  },
  {
   "cell_type": "markdown",
   "metadata": {},
   "source": [
    "**Есть ли зависимость между кол-вом рассылок в месяц и явным оттоком (Unsubscribed = 1)?**"
   ]
  },
  {
   "cell_type": "code",
   "execution_count": 37,
   "metadata": {},
   "outputs": [],
   "source": [
    "voluntary_churn = (engagements\n",
    "                   .groupby(['consumer_id', 'campaign_month'])\n",
    "                   .agg(sum_unsub=('unsubscribed', 'sum'),\n",
    "                        sum_sent=('sent', 'sum'))\n",
    "                   .reset_index()\n",
    "                 )\n",
    "voluntary_churn['unsubscribed_rate'] = voluntary_churn['sum_unsub'] / voluntary_churn['sum_sent']"
   ]
  },
  {
   "cell_type": "code",
   "execution_count": 38,
   "metadata": {},
   "outputs": [
    {
     "data": {
      "text/plain": [
       "0.058370694319408924"
      ]
     },
     "execution_count": 38,
     "metadata": {},
     "output_type": "execute_result"
    }
   ],
   "source": [
    "voluntary_churn['sum_unsub'].sum() / voluntary_churn['sum_sent'].sum() * 100"
   ]
  },
  {
   "cell_type": "code",
   "execution_count": 39,
   "metadata": {},
   "outputs": [
    {
     "data": {
      "image/png": "[encoded data removed]",
      "text/plain": [
       "<Figure size 720x288 with 1 Axes>"
      ]
     },
     "metadata": {},
     "output_type": "display_data"
    }
   ],
   "source": [
    "fig, ax = plt.subplots(figsize = (10, 4))\n",
    "\n",
    "sns.regplot(x = 'sum_sent',\n",
    "            y = 'unsubscribed_rate',\n",
    "            data = voluntary_churn,\n",
    "            scatter_kws={'alpha':0.5}\n",
    "           )\n",
    "\n",
    "ax.axhline(y=(voluntary_churn['sum_unsub'].sum() / voluntary_churn['sum_sent'].sum() * 100), color = 'red', linestyle='--', alpha = 0.8, label = 'mean')\n",
    "\n",
    "plt.xlim(voluntary_churn['sum_sent'].min()-1, voluntary_churn['sum_sent'].max()+1)\n",
    "plt.title('Распределение unsubscribed_rate в зависимости от кол-ва рассылок в месяц', fontdict={'size':14})\n",
    "plt.xlabel('контактов в среднем в месяц')\n",
    "plt.ylabel('unsubscribed_rate (unsubscribed/delivered)')\n",
    "plt.grid('major');"
   ]
  },
  {
   "cell_type": "markdown",
   "metadata": {},
   "source": [
    "Да, зависимость прослеживается, но немного неожиданная: чем больше писем получает пользователь, тем меньше % отписок."
   ]
  },
  {
   "cell_type": "markdown",
   "metadata": {},
   "source": [
    "**Есть ли зависимость между кол-вом рассылок и неявным оттоком (Opened = 0)?**"
   ]
  },
  {
   "cell_type": "code",
   "execution_count": 40,
   "metadata": {},
   "outputs": [],
   "source": [
    "involuntary_churn = (engagements\n",
    "                   .groupby(['consumer_id', 'campaign_month'])\n",
    "                   .agg(sum_opened=('opened', 'sum'),\n",
    "                        sum_sent=('sent', 'sum'))\n",
    "                   .reset_index()\n",
    "                 )\n",
    "involuntary_churn['open_rate'] = involuntary_churn['sum_opened'] / involuntary_churn['sum_sent']"
   ]
  },
  {
   "cell_type": "code",
   "execution_count": 41,
   "metadata": {
    "scrolled": true
   },
   "outputs": [
    {
     "data": {
      "image/png": "[encoded data removed]",
      "text/plain": [
       "<Figure size 720x288 with 1 Axes>"
      ]
     },
     "metadata": {},
     "output_type": "display_data"
    }
   ],
   "source": [
    "sns.set(rc = {'figure.figsize': (10, 4)})\n",
    "\n",
    "sns.regplot(x = 'sum_sent',\n",
    "            y = 'open_rate',\n",
    "            data = involuntary_churn,\n",
    "            scatter_kws={'alpha':0.5}\n",
    "           )\n",
    "\n",
    "plt.xlim(involuntary_churn['sum_sent'].min()-1, involuntary_churn['sum_sent'].max()+1)\n",
    "plt.title('Распределение open_rate в зависимости от кол-ва рассылок в месяц', fontdict={'size':14})\n",
    "plt.xlabel('контактов в среднем в месяц')\n",
    "plt.ylabel('ctr (opened/delivered)')\n",
    "plt.grid('major');"
   ]
  },
  {
   "cell_type": "markdown",
   "metadata": {},
   "source": [
    "Да, скорее всего есть отрицательная зависимость, но данные нужно очистить от шума.\n",
    "\n",
    "Для проверки гипотезы о \"пассивной отписке\" выделем пользователей, которым приходило значительно отличающееся кол-во рассылок в месяц: интерквартильный размах кол-ва рассылок больше, чем среднее"
   ]
  },
  {
   "cell_type": "code",
   "execution_count": 42,
   "metadata": {},
   "outputs": [],
   "source": [
    "#выделяем уникальные id пользователей, по которым есть записи\n",
    "consumer_id_unique = engagements[['consumer_id']].drop_duplicates().reset_index(drop=True)"
   ]
  },
  {
   "cell_type": "code",
   "execution_count": 43,
   "metadata": {},
   "outputs": [],
   "source": [
    "#для каждого id рассчитываем q1, q3 и среднее кол-во рассылок\n",
    "for consumer_id in consumer_id_unique['consumer_id']:\n",
    "    consumer_id_unique.loc[consumer_id_unique['consumer_id'] == consumer_id, 'q1'] = campaign_count.loc[campaign_count['consumer_id'] == consumer_id, 'sum_sent'].quantile(0.25)\n",
    "    consumer_id_unique.loc[consumer_id_unique['consumer_id'] == consumer_id, 'q3'] = campaign_count.loc[campaign_count['consumer_id'] == consumer_id, 'sum_sent'].quantile(0.75)\n",
    "    consumer_id_unique.loc[consumer_id_unique['consumer_id'] == consumer_id, 'mean'] = campaign_count.loc[campaign_count['consumer_id'] == consumer_id, 'sum_sent'].mean()"
   ]
  },
  {
   "cell_type": "code",
   "execution_count": 44,
   "metadata": {},
   "outputs": [],
   "source": [
    "#рассчитываем интерквартильный размах\n",
    "consumer_id_unique['iqr'] = consumer_id_unique['q3'] - consumer_id_unique['q1']\n",
    "#фильтруем пользователей для которых iqr*0.9 < mean\n",
    "consumer_id_final = consumer_id_unique[consumer_id_unique['iqr'] >= consumer_id_unique['mean']*0.9]['consumer_id']"
   ]
  },
  {
   "cell_type": "code",
   "execution_count": 45,
   "metadata": {},
   "outputs": [],
   "source": [
    "scatter = campaign_count[campaign_count['consumer_id'].isin(consumer_id_final)]"
   ]
  },
  {
   "cell_type": "code",
   "execution_count": 46,
   "metadata": {},
   "outputs": [],
   "source": [
    "lr = LinearRegression()\n",
    "\n",
    "X = scatter['sum_sent']\n",
    "y = scatter['open_rate']\n",
    "\n",
    "lr.fit(X.values.reshape(-1, 1), y.values.reshape(-1, 1))\n",
    "\n",
    "y_pred = lr.predict(X.values.reshape(-1, 1))"
   ]
  },
  {
   "cell_type": "code",
   "execution_count": 47,
   "metadata": {},
   "outputs": [
    {
     "data": {
      "image/png": "[encoded data removed]",
      "text/plain": [
       "<Figure size 720x288 with 1 Axes>"
      ]
     },
     "metadata": {},
     "output_type": "display_data"
    }
   ],
   "source": [
    "fig, ax = plt.subplots(figsize = (10, 4))\n",
    "\n",
    "plt.scatter(X, y, label='пользователи получавшие очень много и\\n очень мало рассылок в разные месяцы')\n",
    "plt.plot(X, y_pred, color='red', linewidth=1, label='linear trend')\n",
    "\n",
    "plt.legend(fancybox=True, framealpha=0.5)\n",
    "plt.title('Распределение open rate в зависимости от кол-ва рассылок в месяц', fontdict={'size':14})\n",
    "plt.xlabel('рассылок в среднем в месяц')\n",
    "plt.ylabel('open rate (opened/delivered)');"
   ]
  },
  {
   "cell_type": "markdown",
   "metadata": {},
   "source": [
    "Если посмотреть на пользователей, которые в разное время получали значительно отличающееся количество писем, то будет видно, что с ростом количества рассылок open rate неумолимо снижается."
   ]
  },
  {
   "cell_type": "markdown",
   "metadata": {},
   "source": [
    "**Общий вывод по анализу данных**\n",
    "\n",
    "- Письма чаще открывают либо если их мало (<5), либо если их много (>25).\n",
    "- Зависимость между количеством рассылок в месяц и  долей отписавшихся прослеживается, но немного неожиданная: чем больше писем получает пользователь, тем меньше % отписок. Возможно, это говорит о том, что те пользователи, которые получают >10 писем в месяц осознанно подписались на них. \n",
    "- Если посмотреть на пользователей, которые в разное время получали значительно отличающееся количество писем, то будет видно, что с ростом количества рассылок open rate неумолимо снижается."
   ]
  },
  {
   "cell_type": "markdown",
   "metadata": {},
   "source": [
    "<a href=\"#back\">В начало</a>"
   ]
  },
  {
   "cell_type": "markdown",
   "metadata": {},
   "source": [
    "<article id=\"part4\">\n",
    "<h2>Шаг 4. Расчет оптимального количества рассылок\n",
    "</article>"
   ]
  },
  {
   "cell_type": "markdown",
   "metadata": {},
   "source": [
    "Разделим пользователей на кластеры и в зависимости от кластера рассчитаем оптимальное количество рассылок"
   ]
  },
  {
   "cell_type": "code",
   "execution_count": 48,
   "metadata": {},
   "outputs": [],
   "source": [
    "#в таблицу campaign_count добавляем данные о переходах и отписках\n",
    "campaign_count = campaign_count.merge(engagements\n",
    "                                      .groupby(['consumer_id', 'campaign_month'])\n",
    "                                      .agg(sum_clicked=('clicked', 'sum'),\n",
    "                                           sum_unsubscribed=('unsubscribed', 'sum')),\n",
    "                                      on=['consumer_id', 'campaign_month'],\n",
    "                                      how='left')"
   ]
  },
  {
   "cell_type": "code",
   "execution_count": 49,
   "metadata": {},
   "outputs": [],
   "source": [
    "#группируем в сводную таблицу данные о взимодействиях пользователей с рассылками\n",
    "for_clusters = (campaign_count\n",
    "                .groupby('consumer_id')\n",
    "                .agg(sent=('sum_sent', 'mean'),\n",
    "                     opened=('sum_opened', 'mean'),\n",
    "                     clicked=('sum_clicked', 'mean'),\n",
    "                     unsubscribed=('sum_unsubscribed', 'mean')\n",
    "                    )\n",
    "               )"
   ]
  },
  {
   "cell_type": "code",
   "execution_count": 50,
   "metadata": {},
   "outputs": [],
   "source": [
    "#добавляем информацию о возрасте и поле (заменяем male/female на 0/1)\n",
    "for_clusters = for_clusters.merge(membs[['consumer_id', 'age_id', 'gender']], on=['consumer_id'], how='left')"
   ]
  },
  {
   "cell_type": "code",
   "execution_count": 51,
   "metadata": {},
   "outputs": [],
   "source": [
    "#удаляем NA и убираем id пользователя в индекс\n",
    "for_clusters_short = (for_clusters\n",
    "                      .set_index('consumer_id')[['opened', \n",
    "                                                 #'sent',\n",
    "                                                 'age_id',\n",
    "                                                 'clicked',\n",
    "                                                 'unsubscribed']]\n",
    "                      .dropna())"
   ]
  },
  {
   "cell_type": "code",
   "execution_count": 52,
   "metadata": {},
   "outputs": [
    {
     "data": {
      "image/png": "[encoded data removed]",
      "text/plain": [
       "<Figure size 576x432 with 1 Axes>"
      ]
     },
     "metadata": {},
     "output_type": "display_data"
    }
   ],
   "source": [
    "#стандартизируем данные\n",
    "scaler = StandardScaler()\n",
    "x_sc = scaler.fit_transform(for_clusters_short)\n",
    "\n",
    "#строим матрицу расстояний\n",
    "linked = linkage(x_sc, method = 'ward')\n",
    "\n",
    "#строим дендрограмму\n",
    "plt.figure(figsize=(8, 6))  \n",
    "dendrogram(linked, orientation='top')\n",
    "plt.title('Иерархическая кластеризация')\n",
    "plt.show()"
   ]
  },
  {
   "cell_type": "markdown",
   "metadata": {},
   "source": [
    "Модель предлагает разделить пользователей на 4 кластера"
   ]
  },
  {
   "cell_type": "code",
   "execution_count": 53,
   "metadata": {},
   "outputs": [],
   "source": [
    "#задаём модель и число кластеров\n",
    "scaler = StandardScaler()\n",
    "x_sc = scaler.fit_transform(for_clusters_short)\n",
    "linked = linkage(x_sc, method = 'ward')\n",
    "    \n",
    "#прогнозируем кластеры\n",
    "k=4\n",
    "cluster = fcluster(linked, k, criterion='maxclust')\n",
    "for_clusters_short['cluster'] = cluster"
   ]
  },
  {
   "cell_type": "code",
   "execution_count": 54,
   "metadata": {},
   "outputs": [],
   "source": [
    "#добавляем информацию о кластере в изначальную таблицу \n",
    "for_clusters = for_clusters.merge(for_clusters_short.reset_index()[['consumer_id', 'cluster']], on='consumer_id', how='left')"
   ]
  },
  {
   "cell_type": "code",
   "execution_count": 55,
   "metadata": {},
   "outputs": [
    {
     "data": {
      "text/html": [
       "<style  type=\"text/css\" >\n",
       "    #T_22d1e7ae_fcb9_11ea_8586_3c15c2bb8e78row0_col0 {\n",
       "            background-color:  #1c6ab0;\n",
       "            color:  #f1f1f1;\n",
       "        }    #T_22d1e7ae_fcb9_11ea_8586_3c15c2bb8e78row0_col1 {\n",
       "            background-color:  #68acd5;\n",
       "            color:  #000000;\n",
       "        }    #T_22d1e7ae_fcb9_11ea_8586_3c15c2bb8e78row0_col2 {\n",
       "            background-color:  #f7fbff;\n",
       "            color:  #000000;\n",
       "        }    #T_22d1e7ae_fcb9_11ea_8586_3c15c2bb8e78row0_col3 {\n",
       "            background-color:  #08306b;\n",
       "            color:  #f1f1f1;\n",
       "        }    #T_22d1e7ae_fcb9_11ea_8586_3c15c2bb8e78row1_col0 {\n",
       "            background-color:  #08306b;\n",
       "            color:  #f1f1f1;\n",
       "        }    #T_22d1e7ae_fcb9_11ea_8586_3c15c2bb8e78row1_col1 {\n",
       "            background-color:  #f4f9fe;\n",
       "            color:  #000000;\n",
       "        }    #T_22d1e7ae_fcb9_11ea_8586_3c15c2bb8e78row1_col2 {\n",
       "            background-color:  #f7fbff;\n",
       "            color:  #000000;\n",
       "        }    #T_22d1e7ae_fcb9_11ea_8586_3c15c2bb8e78row1_col3 {\n",
       "            background-color:  #d5e5f4;\n",
       "            color:  #000000;\n",
       "        }    #T_22d1e7ae_fcb9_11ea_8586_3c15c2bb8e78row2_col0 {\n",
       "            background-color:  #08306b;\n",
       "            color:  #f1f1f1;\n",
       "        }    #T_22d1e7ae_fcb9_11ea_8586_3c15c2bb8e78row2_col1 {\n",
       "            background-color:  #d7e6f5;\n",
       "            color:  #000000;\n",
       "        }    #T_22d1e7ae_fcb9_11ea_8586_3c15c2bb8e78row2_col2 {\n",
       "            background-color:  #f7fbff;\n",
       "            color:  #000000;\n",
       "        }    #T_22d1e7ae_fcb9_11ea_8586_3c15c2bb8e78row2_col3 {\n",
       "            background-color:  #edf4fc;\n",
       "            color:  #000000;\n",
       "        }    #T_22d1e7ae_fcb9_11ea_8586_3c15c2bb8e78row3_col0 {\n",
       "            background-color:  #08306b;\n",
       "            color:  #f1f1f1;\n",
       "        }    #T_22d1e7ae_fcb9_11ea_8586_3c15c2bb8e78row3_col1 {\n",
       "            background-color:  #f7fbff;\n",
       "            color:  #000000;\n",
       "        }    #T_22d1e7ae_fcb9_11ea_8586_3c15c2bb8e78row3_col2 {\n",
       "            background-color:  #94c4df;\n",
       "            color:  #000000;\n",
       "        }    #T_22d1e7ae_fcb9_11ea_8586_3c15c2bb8e78row3_col3 {\n",
       "            background-color:  #4a98c9;\n",
       "            color:  #000000;\n",
       "        }    #T_22d1e7ae_fcb9_11ea_8586_3c15c2bb8e78row4_col0 {\n",
       "            background-color:  #f7fbff;\n",
       "            color:  #000000;\n",
       "        }    #T_22d1e7ae_fcb9_11ea_8586_3c15c2bb8e78row4_col1 {\n",
       "            background-color:  #08306b;\n",
       "            color:  #f1f1f1;\n",
       "        }    #T_22d1e7ae_fcb9_11ea_8586_3c15c2bb8e78row4_col2 {\n",
       "            background-color:  #f7fbff;\n",
       "            color:  #000000;\n",
       "        }    #T_22d1e7ae_fcb9_11ea_8586_3c15c2bb8e78row4_col3 {\n",
       "            background-color:  #f6faff;\n",
       "            color:  #000000;\n",
       "        }    #T_22d1e7ae_fcb9_11ea_8586_3c15c2bb8e78row5_col0 {\n",
       "            background-color:  #e3eef8;\n",
       "            color:  #000000;\n",
       "        }    #T_22d1e7ae_fcb9_11ea_8586_3c15c2bb8e78row5_col1 {\n",
       "            background-color:  #f7fbff;\n",
       "            color:  #000000;\n",
       "        }    #T_22d1e7ae_fcb9_11ea_8586_3c15c2bb8e78row5_col2 {\n",
       "            background-color:  #08306b;\n",
       "            color:  #f1f1f1;\n",
       "        }    #T_22d1e7ae_fcb9_11ea_8586_3c15c2bb8e78row5_col3 {\n",
       "            background-color:  #539ecd;\n",
       "            color:  #000000;\n",
       "        }</style><table id=\"T_22d1e7ae_fcb9_11ea_8586_3c15c2bb8e78\" ><thead>    <tr>        <th class=\"index_name level0\" >cluster</th>        <th class=\"col_heading level0 col0\" >1.0</th>        <th class=\"col_heading level0 col1\" >2.0</th>        <th class=\"col_heading level0 col2\" >3.0</th>        <th class=\"col_heading level0 col3\" >4.0</th>    </tr></thead><tbody>\n",
       "                <tr>\n",
       "                        <th id=\"T_22d1e7ae_fcb9_11ea_8586_3c15c2bb8e78level0_row0\" class=\"row_heading level0 row0\" >age_id</th>\n",
       "                        <td id=\"T_22d1e7ae_fcb9_11ea_8586_3c15c2bb8e78row0_col0\" class=\"data row0 col0\" >38.2</td>\n",
       "                        <td id=\"T_22d1e7ae_fcb9_11ea_8586_3c15c2bb8e78row0_col1\" class=\"data row0 col1\" >33.8</td>\n",
       "                        <td id=\"T_22d1e7ae_fcb9_11ea_8586_3c15c2bb8e78row0_col2\" class=\"data row0 col2\" >25.4</td>\n",
       "                        <td id=\"T_22d1e7ae_fcb9_11ea_8586_3c15c2bb8e78row0_col3\" class=\"data row0 col3\" >41.8</td>\n",
       "            </tr>\n",
       "            <tr>\n",
       "                        <th id=\"T_22d1e7ae_fcb9_11ea_8586_3c15c2bb8e78level0_row1\" class=\"row_heading level0 row1\" >clicked</th>\n",
       "                        <td id=\"T_22d1e7ae_fcb9_11ea_8586_3c15c2bb8e78row1_col0\" class=\"data row1 col0\" >0.9</td>\n",
       "                        <td id=\"T_22d1e7ae_fcb9_11ea_8586_3c15c2bb8e78row1_col1\" class=\"data row1 col1\" >0.1</td>\n",
       "                        <td id=\"T_22d1e7ae_fcb9_11ea_8586_3c15c2bb8e78row1_col2\" class=\"data row1 col2\" >0.0</td>\n",
       "                        <td id=\"T_22d1e7ae_fcb9_11ea_8586_3c15c2bb8e78row1_col3\" class=\"data row1 col3\" >0.2</td>\n",
       "            </tr>\n",
       "            <tr>\n",
       "                        <th id=\"T_22d1e7ae_fcb9_11ea_8586_3c15c2bb8e78level0_row2\" class=\"row_heading level0 row2\" >opened</th>\n",
       "                        <td id=\"T_22d1e7ae_fcb9_11ea_8586_3c15c2bb8e78row2_col0\" class=\"data row2 col0\" >7.5</td>\n",
       "                        <td id=\"T_22d1e7ae_fcb9_11ea_8586_3c15c2bb8e78row2_col1\" class=\"data row2 col1\" >1.7</td>\n",
       "                        <td id=\"T_22d1e7ae_fcb9_11ea_8586_3c15c2bb8e78row2_col2\" class=\"data row2 col2\" >0.5</td>\n",
       "                        <td id=\"T_22d1e7ae_fcb9_11ea_8586_3c15c2bb8e78row2_col3\" class=\"data row2 col3\" >0.9</td>\n",
       "            </tr>\n",
       "            <tr>\n",
       "                        <th id=\"T_22d1e7ae_fcb9_11ea_8586_3c15c2bb8e78level0_row3\" class=\"row_heading level0 row3\" >avg_sent</th>\n",
       "                        <td id=\"T_22d1e7ae_fcb9_11ea_8586_3c15c2bb8e78row3_col0\" class=\"data row3 col0\" >12.0</td>\n",
       "                        <td id=\"T_22d1e7ae_fcb9_11ea_8586_3c15c2bb8e78row3_col1\" class=\"data row3 col1\" >2.0</td>\n",
       "                        <td id=\"T_22d1e7ae_fcb9_11ea_8586_3c15c2bb8e78row3_col2\" class=\"data row3 col2\" >6.0</td>\n",
       "                        <td id=\"T_22d1e7ae_fcb9_11ea_8586_3c15c2bb8e78row3_col3\" class=\"data row3 col3\" >8.0</td>\n",
       "            </tr>\n",
       "            <tr>\n",
       "                        <th id=\"T_22d1e7ae_fcb9_11ea_8586_3c15c2bb8e78level0_row4\" class=\"row_heading level0 row4\" >unsubscribed</th>\n",
       "                        <td id=\"T_22d1e7ae_fcb9_11ea_8586_3c15c2bb8e78row4_col0\" class=\"data row4 col0\" >0.0</td>\n",
       "                        <td id=\"T_22d1e7ae_fcb9_11ea_8586_3c15c2bb8e78row4_col1\" class=\"data row4 col1\" >1.1</td>\n",
       "                        <td id=\"T_22d1e7ae_fcb9_11ea_8586_3c15c2bb8e78row4_col2\" class=\"data row4 col2\" >0.0</td>\n",
       "                        <td id=\"T_22d1e7ae_fcb9_11ea_8586_3c15c2bb8e78row4_col3\" class=\"data row4 col3\" >0.0</td>\n",
       "            </tr>\n",
       "            <tr>\n",
       "                        <th id=\"T_22d1e7ae_fcb9_11ea_8586_3c15c2bb8e78level0_row5\" class=\"row_heading level0 row5\" >unique_users</th>\n",
       "                        <td id=\"T_22d1e7ae_fcb9_11ea_8586_3c15c2bb8e78row5_col0\" class=\"data row5 col0\" >351.0</td>\n",
       "                        <td id=\"T_22d1e7ae_fcb9_11ea_8586_3c15c2bb8e78row5_col1\" class=\"data row5 col1\" >25.0</td>\n",
       "                        <td id=\"T_22d1e7ae_fcb9_11ea_8586_3c15c2bb8e78row5_col2\" class=\"data row5 col2\" >3151.0</td>\n",
       "                        <td id=\"T_22d1e7ae_fcb9_11ea_8586_3c15c2bb8e78row5_col3\" class=\"data row5 col3\" >1814.0</td>\n",
       "            </tr>\n",
       "    </tbody></table>"
      ],
      "text/plain": [
       "<pandas.io.formats.style.Styler at 0x13d0eccf8>"
      ]
     },
     "execution_count": 55,
     "metadata": {},
     "output_type": "execute_result"
    }
   ],
   "source": [
    "#смотрим статистику по кластерам\n",
    "clust_stat = (for_clusters\n",
    "              .pivot_table(index='cluster', \n",
    "                           values=['sent', \n",
    "                                   'opened',\n",
    "                                   'clicked',\n",
    "                                   'unsubscribed',\n",
    "                                   'age_id'],\n",
    "                           aggfunc='mean')\n",
    "              .reset_index()\n",
    "              .merge(for_clusters\n",
    "                     .groupby('cluster')\n",
    "                     .agg(unique_users=('cluster', 'count'))\n",
    "                     .reset_index(), on='cluster', how='left')\n",
    "             )\n",
    "clust_stat = clust_stat.rename(columns={\"sent\": \"avg_sent\"})\n",
    "clust_stat['avg_sent'] = round(clust_stat['avg_sent'])\n",
    "\n",
    "(clust_stat\n",
    " .set_index('cluster')\n",
    " .T\n",
    " .style\n",
    " .format(\"{:.1f}\")\n",
    " .background_gradient(cmap = 'Blues', axis=1)\n",
    ")"
   ]
  },
  {
   "cell_type": "markdown",
   "metadata": {},
   "source": [
    "Кажется кластеры действительно сильно различаются:\n",
    "- 1 кластер: получают в среднем 12 рассылок, больше половины из них открывают и из 1го письма переходят на сайт/приложение;\n",
    "- 2 кластер: получают 2 письма и от 1 отписываются;\n",
    "- 3 кластер: самый крупный кластер и самый молодой: в среднем пользователи получают 6 писем, но никаких действий не совершают;\n",
    "- 4 кластер: поллучают 8 писем, одно из которых открывают;"
   ]
  },
  {
   "cell_type": "code",
   "execution_count": 56,
   "metadata": {},
   "outputs": [],
   "source": [
    "#добавляем рекомендованное кол-во рассылок в таблицу с id пользователей\n",
    "for_clusters = for_clusters.merge(clust_stat[['cluster', 'avg_sent']], on='cluster', how='left')"
   ]
  },
  {
   "cell_type": "code",
   "execution_count": 57,
   "metadata": {},
   "outputs": [],
   "source": [
    "#выделяем в таблицу информацию о пользователях и рекомендованному количеству рассылок\n",
    "optimal_campaign_num = membs[['consumer_id']].merge(for_clusters[['consumer_id', 'avg_sent']], on='consumer_id', how='left')\n",
    "#пользователям, для которых не нашлой кол-ва рассылок присваиваем 0 \n",
    "optimal_campaign_num.loc[(optimal_campaign_num['avg_sent'].isna()), 'avg_sent'] = 0\n",
    "#добавляем столбец с информацией о том, что значение кол-ва рассылок выше среднего\n",
    "optimal_campaign_num['above_average'] = (optimal_campaign_num['avg_sent'] > optimal_campaign_num['avg_sent'].mean()).astype('int')"
   ]
  },
  {
   "cell_type": "markdown",
   "metadata": {},
   "source": [
    "**Методология расчета оптимального количества рассылок **\n",
    "\n",
    "- Предобработка данных о взаимодействиях с рассылками:\n",
    "    - удалены пользователи, которые не открывали рассылки более 180 дней;\n",
    "    - удалены записи о недоставленных рассылках;\n",
    "- Разделение пользователей на кластеры с помощью агломеративной иерархической кластеризации по следующим признакам:\n",
    "    - количество открытых рассылок, \n",
    "    - количество переходов из рассылок, \n",
    "    - количество unsubscribed\n",
    "    - возраст пользователя\n",
    "- Рекомендованное количество рассылок для каждого кластера равно среднему количеству рассылок по данному кластеру;\n",
    "- Рекомендованное количество рассылок для пользователей, которые были отфильтрованы на этапе предобработки, равно 0.\n"
   ]
  },
  {
   "cell_type": "markdown",
   "metadata": {},
   "source": [
    "<a href=\"#back\">В начало</a>"
   ]
  },
  {
   "cell_type": "markdown",
   "metadata": {},
   "source": [
    "<article id=\"part5\">\n",
    "<h2>Шаг 5. Проверка гипотез\n",
    "</article>"
   ]
  },
  {
   "cell_type": "markdown",
   "metadata": {},
   "source": [
    "**1. Гипотеза о “пассивной отписке”: когда человеку показалось, что ему пишут слишком много, и он просто перестает открывать рассылки, хоть и не готов отписываться**\n",
    "- **H0**: Конверсия писем из *Delivered* в *Opened* у группы пользователей, получивших рассылок больше чем в среднем, такая же как у пользователей, получивших рассылок меньше чем в среднем.\n",
    "- **H1**: Конверсия писем из *Delivered* в *Opened* у группы пользователей, получивших рассылок больше чем в среднем, статистически значимо отличается от конверсии у пользователей, получивших рассылок меньше чем в среднем."
   ]
  },
  {
   "cell_type": "code",
   "execution_count": 59,
   "metadata": {},
   "outputs": [],
   "source": [
    "campaign_count = campaign_count.merge(consumer_id_unique[['consumer_id', 'mean']], on='consumer_id', how='left')"
   ]
  },
  {
   "cell_type": "code",
   "execution_count": 60,
   "metadata": {},
   "outputs": [
    {
     "name": "stdout",
     "output_type": "stream",
     "text": [
      "Средний open_rate для группы с маленьким кол-вом рассылок 0.21\n",
      "Среднее кол-во рассылок для группы с маленьким кол-вом рассылок 9\n",
      "Средний open_rate для группы с большим кол-вом рассылок 0.15\n",
      "Среднее кол-во рассылок для группы с большим кол-вом рассылок 15\n"
     ]
    },
    {
     "data": {
      "image/png": "[encoded data removed]",
      "text/plain": [
       "<Figure size 720x288 with 1 Axes>"
      ]
     },
     "metadata": {},
     "output_type": "display_data"
    }
   ],
   "source": [
    "open_rate_xs = campaign_count[campaign_count['sum_sent'] < campaign_count['mean']]['open_rate']\n",
    "open_rate_xl = campaign_count[campaign_count['sum_sent'] > campaign_count['mean']]['open_rate']\n",
    "\n",
    "print('Средний open_rate для группы с маленьким кол-вом рассылок {:.2f}'.format(open_rate_xs.mean()))\n",
    "print('Среднее кол-во рассылок для группы с маленьким кол-вом рассылок {:.0f}'.format(campaign_count[campaign_count['sum_sent'] < campaign_count['mean']]['sum_sent'].mean()))\n",
    "print('Средний open_rate для группы с большим кол-вом рассылок {:.2f}'.format(open_rate_xl.mean()))\n",
    "print('Среднее кол-во рассылок для группы с большим кол-вом рассылок {:.0f}'.format(campaign_count[campaign_count['sum_sent'] > campaign_count['mean']]['sum_sent'].mean()))\n",
    "\n",
    "\n",
    "plt.figure(figsize=(10, 4))\n",
    "plt.title('open_rate')\n",
    "\n",
    "open_rate_xs.hist(alpha=0.5, bins = 20, color='coral')\n",
    "open_rate_xl.hist(alpha=0.5, bins = 20, color='royalblue')\n",
    "\n",
    "plt.axvline(open_rate_xs.mean(), color='coral', alpha=0.9, linestyle='dashed')\n",
    "plt.axvline(open_rate_xl.mean(), color='royalblue', alpha=0.9, linestyle='dashed')\n",
    "\n",
    "plt.legend(['mean open_rate_xs', 'mean open_rate_xl']);\n"
   ]
  },
  {
   "cell_type": "code",
   "execution_count": 61,
   "metadata": {},
   "outputs": [],
   "source": [
    "#считаем кол-во уникальных пользователей, которые открыли и получили рассылки по группам пользователей:\n",
    "#1 — получали в месяц рассылок меньше чем mean, 2 — получали в месяц рассылок больше чем mean\n",
    "suc_1 = campaign_count[(campaign_count['sum_sent'] < campaign_count['mean']) & (campaign_count['sum_opened'] > 0)]['consumer_id'].nunique()\n",
    "tot_1 = campaign_count[(campaign_count['sum_sent'] < campaign_count['mean']) & (campaign_count['sum_sent'] > 0)]['consumer_id'].nunique()\n",
    "\n",
    "suc_2 = campaign_count[(campaign_count['sum_sent'] > campaign_count['mean']) & (campaign_count['sum_opened'] > 0)]['consumer_id'].nunique()\n",
    "tot_2 = campaign_count[(campaign_count['sum_sent'] > campaign_count['mean']) & (campaign_count['sum_sent'] > 0)]['consumer_id'].nunique()"
   ]
  },
  {
   "cell_type": "code",
   "execution_count": 62,
   "metadata": {},
   "outputs": [
    {
     "name": "stdout",
     "output_type": "stream",
     "text": [
      "p-value: 0.00000\n",
      "Отвергаем H0: между долями есть значимая разница\n"
     ]
    }
   ],
   "source": [
    "alpha = 0.05 # критический уровень статистической значимости\n",
    "\n",
    "#доля успехов\n",
    "p1 = suc_1/tot_1\n",
    "p2 = suc_2/tot_2\n",
    "p_combined = (suc_1 + suc_2) / (tot_1 + tot_2)\n",
    "difference = p1 - p2\n",
    "    \n",
    "#считаем статистику в ст.отклонениях стандартного нормального распределения\n",
    "z_value = difference / mth.sqrt(p_combined * (1 - p_combined) * (1/tot_1 + 1/tot_2))\n",
    "\n",
    "#задаем стандартное нормальное распределение\n",
    "distr = st.norm(0, 1)\n",
    "\n",
    "p_value = (1 - distr.cdf(abs(z_value)))\n",
    "\n",
    "print('p-value: {:.5f}'.format(p_value))\n",
    "if (p_value < alpha):\n",
    "    print(\"Отвергаем H0: между долями есть значимая разница\")\n",
    "else:\n",
    "    print(\"Не получилось отвергнуть H0, нет оснований считать доли разными\")"
   ]
  },
  {
   "cell_type": "markdown",
   "metadata": {},
   "source": [
    "Проверяем гипотезу о равенстве долей с помощью z-test: p-value меньше критического уровня значимости alpha (0.05), значит нулевую гипотезу отвергаем.\n",
    "\n",
    "Это значит, что пользователи, которые получали много рассылок (15 в месяц) открывали их менее часто, чем пользователи, которым приходило не так много писем."
   ]
  },
  {
   "cell_type": "markdown",
   "metadata": {},
   "source": [
    "**Общий вывод по проверке гипотез**\n",
    "\n",
    "Гипотезу о пассивной отписке проверяли с помощью z-test. Нулевую гипотезу отвергли, так как p-value меньше критического уровня значимости alpha (0.05). Это значит, что пользователи, которые получали много рассылок (15 в месяц) открывали их статистически значимо менее часто, чем пользователи, которым приходило не так много писем (9 в месяц).\n"
   ]
  },
  {
   "cell_type": "markdown",
   "metadata": {},
   "source": [
    "<a href=\"#back\">В начало</a>"
   ]
  },
  {
   "cell_type": "markdown",
   "metadata": {},
   "source": [
    "<article id=\"part6\">\n",
    "<h2>Шаг 6. Общий вывод\n",
    "</article>"
   ]
  },
  {
   "cell_type": "markdown",
   "metadata": {},
   "source": [
    "Для анализа были доступны данные когорты пользователей, зарегистрировавшихся 2019/07/02: всего около 14т id, записи об их взаимодействиях с рассылками (факт получения, открытия, перехода на сайт/приложение).\n",
    "\n",
    "- В среднем пользователи получали 10 писем в месяц, из которых только 2 открывали. Причем, судя по графику зависимости доли открытых писем от общего количества полученных, пользователи смотрели рассылки, либо когда их приходило очень мало, либо очень много.\n",
    "- К счастью, здравый смысл победил: на корректно очищенных данных стало видно, что с ростом количества рассылок, доля открытых писем все-таки снижается. Эта зависимость также подтвердилась статистически: пользователи, которые получали много рассылок (15 в месяц) открывали их статистически значимо менее часто, чем пользователи, которым приходило не так много писем (9 в месяц).\n",
    "- С помощью кластерного анализа в данных было выделено 4 группы пользователей, для которых могут быть рекомендованы различные стратегии коммуникации — см таблицу."
   ]
  },
  {
   "cell_type": "code",
   "execution_count": null,
   "metadata": {},
   "outputs": [],
   "source": []
  }
 ],
 "metadata": {
  "kernelspec": {
   "display_name": "Python 3",
   "language": "python",
   "name": "python3"
  },
  "language_info": {
   "codemirror_mode": {
    "name": "ipython",
    "version": 3
   },
   "file_extension": ".py",
   "mimetype": "text/x-python",
   "name": "python",
   "nbconvert_exporter": "python",
   "pygments_lexer": "ipython3",
   "version": "3.6.8"
  }
 },
 "nbformat": 4,
 "nbformat_minor": 2
}
